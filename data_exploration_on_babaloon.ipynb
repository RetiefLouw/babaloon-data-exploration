{
  "cells": [
    {
      "cell_type": "markdown",
      "metadata": {
        "id": "view-in-github",
        "colab_type": "text"
      },
      "source": [
        "<a href=\"https://colab.research.google.com/github/RetiefLouw/babaloon-data-exploration/blob/main/data_exploration_on_babaloon.ipynb\" target=\"_parent\"><img src=\"https://colab.research.google.com/assets/colab-badge.svg\" alt=\"Open In Colab\"/></a>"
      ]
    },
    {
      "cell_type": "markdown",
      "metadata": {
        "id": "-1YVosD5mZoo"
      },
      "source": [
        "# Data Preparation"
      ]
    },
    {
      "cell_type": "markdown",
      "metadata": {
        "id": "M6bWD807mZoq"
      },
      "source": [
        "Read the 2 CSVs, join them and place the final dataset in joined_df"
      ]
    },
    {
      "cell_type": "code",
      "execution_count": 24,
      "metadata": {
        "id": "sqaKREavmZoq"
      },
      "outputs": [],
      "source": [
        "import pandas as pd\n",
        "from sklearn.feature_extraction.text import TfidfVectorizer\n",
        "from sklearn.linear_model import LinearRegression\n",
        "from sklearn.metrics import mean_squared_error, r2_score\n",
        "from sklearn.model_selection import train_test_split, learning_curve\n",
        "from sklearn.preprocessing import StandardScaler\n",
        "import matplotlib.pyplot as plt\n",
        "\n",
        "import torch.nn as nn\n",
        "import torch.optim as optim\n",
        "\n",
        "import numpy as np\n",
        "import torch\n",
        "import random\n"
      ]
    },
    {
      "cell_type": "code",
      "execution_count": 25,
      "metadata": {
        "id": "u0BYdsrNmZor"
      },
      "outputs": [],
      "source": [
        "# # Load the data into a pandas DataFrame from local file\n",
        "# data_path = \"babaloon_kws_keywords - train_per_test.csv\"\n",
        "# scores_csv_filepath = \"babaloon_kws_keywords - Scores.csv\"\n",
        "\n",
        "# Using online hosted files from 2024-03-26\n",
        "data_path = 'https://raw.githubusercontent.com/RetiefLouw/babaloon-data-exploration/main/babaloon_kws_keywords%20-%20train_per_test.csv'\n",
        "scores_csv_filepath = \"https://raw.githubusercontent.com/RetiefLouw/babaloon-data-exploration/main/babaloon_kws_keywords%20-%20Scores.csv\"\n",
        "\n",
        "output_csv_path = \"babaloon_kws_keywords - flattened.csv\"\n",
        "my_test_size = 0.2  # 20% for testing\n",
        "my_random_state = 42"
      ]
    },
    {
      "cell_type": "markdown",
      "metadata": {
        "id": "jU1RE9yBmZos"
      },
      "source": [
        "## Compile the list of unique words from the CSV\n"
      ]
    },
    {
      "cell_type": "code",
      "execution_count": 26,
      "metadata": {
        "colab": {
          "base_uri": "https://localhost:8080/"
        },
        "id": "VmYxOYAZmZos",
        "outputId": "44ae5583-a4da-4efa-e184-b9ea6c1ab2df"
      },
      "outputs": [
        {
          "output_type": "stream",
          "name": "stdout",
          "text": [
            "Unique words: ['babaloon', 'balloon', 'boom', 'butterfly', 'gelukkig', 'geëet', 'hardloop', 'hond', 'honger', 'kat', 'katjie', 'kwaad', 'lekker', 'muis', 'seer', 'seuntjie', 'sien', 'vissies', 'voel', 'water', 'wil', 'worsies']\n",
            "Number of unique words: 22\n"
          ]
        }
      ],
      "source": [
        "import csv\n",
        "import json\n",
        "\n",
        "# Define an empty list to store unique words\n",
        "word_list = []\n",
        "df = pd.read_csv(data_path)\n",
        "\n",
        "# Skip the header row (if it exists)\n",
        "if \"header\" in df.columns:\n",
        "    df = df.iloc[1:]  # Assuming header is in the first row\n",
        "\n",
        "# Loop through each row in the DataFrame\n",
        "for index, row in df.iterrows():\n",
        "    # Get the JSON string from the second column (assuming it's the second)\n",
        "    json_data = row[1]\n",
        "\n",
        "    # Fix any single quotes within the JSON string\n",
        "    json_data = json_data.replace(\"'\", '\"')\n",
        "\n",
        "    # Convert the JSON string to a dictionary\n",
        "    data_dict = json.loads(json_data)\n",
        "\n",
        "    # Extract unique words from the dictionary keys and add them to the list\n",
        "    for word in data_dict.keys():\n",
        "        if word not in word_list:\n",
        "            word_list.append(word)\n",
        "\n",
        "# Print the unique word list\n",
        "word_list.sort()\n",
        "print(f\"Unique words: {word_list}\")\n",
        "print(f\"Number of unique words: {len(word_list)}\")"
      ]
    },
    {
      "cell_type": "markdown",
      "metadata": {
        "id": "UsdwIUHmmZot"
      },
      "source": [
        "## Flatten and populate the feature columns from the dictionary\n"
      ]
    },
    {
      "cell_type": "code",
      "execution_count": 27,
      "metadata": {
        "id": "DCmei0TSmZot"
      },
      "outputs": [],
      "source": [
        "# Read the original CSV\n",
        "data = pd.read_csv(data_path)\n",
        "\n",
        "# Initialize new columns with zeros\n",
        "for word in word_list:\n",
        "    data[word] = 0\n",
        "\n",
        "# Save the updated DataFrame to the new CSV file (append mode)\n",
        "data.to_csv(output_csv_path, header=True, index=False)\n",
        "\n",
        "# print(data.head()) # Display the head of the new CSV with only 0s"
      ]
    },
    {
      "cell_type": "code",
      "execution_count": 28,
      "metadata": {
        "id": "NaN3Mj5RmZot",
        "colab": {
          "base_uri": "https://localhost:8080/"
        },
        "outputId": "30cc760a-151c-48cc-ae69-9a10c4a80b0b"
      },
      "outputs": [
        {
          "output_type": "stream",
          "name": "stdout",
          "text": [
            "                      ID                                      Keyword count  \\\n",
            "0   id_10_main_post_test  {'wil': 7, 'butterfly': 3, 'gelukkig': 1, 'kat...   \n",
            "1    id_10_main_pre_test  {'wil': 3, 'muis': 3, 'boom': 3, 'balloon': 3,...   \n",
            "2   id_11_main_post_test  {'wil': 2, 'kat': 2, 'muis': 3, 'voel': 1, 'ba...   \n",
            "3    id_11_main_pre_test  {'lekker': 1, 'boom': 3, 'seuntjie': 2, 'voel'...   \n",
            "4   id_120_main_pre_test  {'muis': 2, 'voel': 3, 'babaloon': 2, 'worsies...   \n",
            "..                   ...                                                ...   \n",
            "56  id_94_main_post_test  {'wil': 8, 'muis': 6, 'geëet': 3, 'balloon': 7...   \n",
            "57   id_94_main_pre_test  {'kat': 11, 'wil': 4, 'butterfly': 3, 'voel': ...   \n",
            "58  id_95_main_post_test  {'wil': 4, 'kat': 2, 'boom': 3, 'hond': 9, 'kw...   \n",
            "59   id_9_main_post_test  {'wil': 2, 'butterfly': 3, 'seer': 2, 'gelukki...   \n",
            "60    id_9_main_pre_test  {'hond': 4, 'wil': 1, 'muis': 2, 'boom': 3, 'b...   \n",
            "\n",
            "    Reviewed  babaloon  balloon  boom  butterfly  gelukkig  geëet  hardloop  \\\n",
            "0       True         0        0     0          3         1      1         0   \n",
            "1       True         0        3     3          0         0      0         0   \n",
            "2       True         5        0     1          0         1      2         0   \n",
            "3      False         0        0     3          1         0      2         0   \n",
            "4       True         2        0     0          0         0      1         0   \n",
            "..       ...       ...      ...   ...        ...       ...    ...       ...   \n",
            "56      True         0        7     3          0         2      3         1   \n",
            "57      True         0        0     2          3         0      0         0   \n",
            "58     False         6        0     3          0         2      2         0   \n",
            "59     False         0        0     0          3         1      0         0   \n",
            "60     False         5        0     3          0         1      0         0   \n",
            "\n",
            "    ...  seer  seuntjie  sien  vissies  voel  water  wil  worsies  A17  D11  \n",
            "0   ...     0         0     0        0     0      0    7        0    5    9  \n",
            "1   ...     0         0     0        0     1      0    3        0    4    5  \n",
            "2   ...     0         0     0        0     1      0    2        2    6   10  \n",
            "3   ...     0         2     0        0     1      1    1        0    4    8  \n",
            "4   ...     0         1     0        0     3      0    0        2    0    5  \n",
            "..  ...   ...       ...   ...      ...   ...    ...  ...      ...  ...  ...  \n",
            "56  ...     0         1     1        0     0      0    8        0    7   10  \n",
            "57  ...     3         0     0        0     3      1    4        0    6    9  \n",
            "58  ...     0         0     0        0     0      0    4        2    5    8  \n",
            "59  ...     2         1     0        0     0      1    2        0    6    9  \n",
            "60  ...     0         1     0        0     0      0    1        0    3    8  \n",
            "\n",
            "[61 rows x 27 columns]\n"
          ]
        }
      ],
      "source": [
        "# Load data from new csv and extract word counts\n",
        "data = pd.read_csv(output_csv_path)\n",
        "\n",
        "for index, row in data.iterrows():\n",
        "    json_data = row[\"Keyword count\"]\n",
        "    json_data = json_data.replace(\"'\", '\"')\n",
        "    data_dict = json.loads(json_data)\n",
        "\n",
        "    # Update the 0 value of the column matching the \"key\" word\n",
        "    for word in data.columns[\n",
        "        3:\n",
        "    ]:  # Assuming columns from the 4th position onward are the words columns\n",
        "        if word in data_dict:\n",
        "            data.at[index, word] = data_dict[word]\n",
        "\n",
        "data.to_csv(output_csv_path, header=True, index=False)\n",
        "# print(data.head()) # Display the flattened table\n",
        "\n",
        "scores_only = pd.read_csv(scores_csv_filepath)\n",
        "# print(scores_only.head())\n",
        "\n",
        "# Perform an inner join\n",
        "joined_df = pd.merge(data, scores_only, left_on=\"ID\", right_on=\"filename\", how=\"inner\")\n",
        "\n",
        "# Drop the redundant 'Filename' column if needed\n",
        "joined_df = joined_df.drop(\"filename\", axis=1)\n",
        "\n",
        "# Save the updated DataFrame to the new CSV file (append mode)\n",
        "joined_df.to_csv(output_csv_path, header=True, index=False)\n",
        "\n",
        "print(joined_df) # Display the result"
      ]
    },
    {
      "cell_type": "markdown",
      "source": [
        "# Data Understanding\n",
        "\n",
        "## Dataset Source\n",
        "\n",
        "> The study commenced in February 2022. The main project focused on Xhosa and Afrikaans first language speaking children in preschools where the language of learning and teaching is in their mother tongue. Participants were selected from two districts in the Western Cape, Khayelitsha and Paarl East where homogeneous clusters of preschools fulfilling the language requirements of the\n",
        "project could be found. As not all ECD centres are registered with the Department of Social Development, sites were also recruited in partnership with local NGO’s, namely Sikhula Sonke and Ikamva Labantu in Khayelitsha and Inceba Trust in Paarl. 28 Centres in Khayelitsha and 27 centres in Paarl East were identified and recruited to participate in the research study.\n",
        "\n",
        "## Target Variable\n",
        "\n",
        "### A17\n",
        "A17 = sum of the narrative evaluation table\n",
        "The table specifies 3 possible events which the child may describe in the story. The child earns a point each time they identify the initiation, goal, attempt, outcome or reaction of an event. The cild can earn an additional point by mentioning the setting of the story.\n",
        "\n",
        "### D11\n",
        "After answering the questions, the child is asked 11 questions to test the child's comprehension of the story elements. For each correct response from the child, the child is awarded 1 point. The maximum score achievable is 11.\n",
        "\n",
        "> The story was then scored according to story structure elements used by the participant and a score out of /17 was compiled. Based on the story structure elements that were used, the researcher was then able to identify the level of structural complexity of each participant’s narrative.\n",
        "\n",
        "## Determine Feature Data Types"
      ],
      "metadata": {
        "id": "NLiHqwB7_lfT"
      }
    },
    {
      "cell_type": "code",
      "source": [
        "# Print the data types of each column in the dataframe\n",
        "print(joined_df.dtypes)"
      ],
      "metadata": {
        "colab": {
          "base_uri": "https://localhost:8080/"
        },
        "id": "2pe3TFiJEviJ",
        "outputId": "0e0a3875-4614-4fa9-93be-b645c6bcee9d"
      },
      "execution_count": 29,
      "outputs": [
        {
          "output_type": "stream",
          "name": "stdout",
          "text": [
            "ID               object\n",
            "Keyword count    object\n",
            "Reviewed           bool\n",
            "babaloon          int64\n",
            "balloon           int64\n",
            "boom              int64\n",
            "butterfly         int64\n",
            "gelukkig          int64\n",
            "geëet             int64\n",
            "hardloop          int64\n",
            "hond              int64\n",
            "honger            int64\n",
            "kat               int64\n",
            "katjie            int64\n",
            "kwaad             int64\n",
            "lekker            int64\n",
            "muis              int64\n",
            "seer              int64\n",
            "seuntjie          int64\n",
            "sien              int64\n",
            "vissies           int64\n",
            "voel              int64\n",
            "water             int64\n",
            "wil               int64\n",
            "worsies           int64\n",
            "A17              object\n",
            "D11              object\n",
            "dtype: object\n"
          ]
        }
      ]
    },
    {
      "cell_type": "markdown",
      "source": [
        "`A17` and `D11` are displayed as `objects` instead of `int64` because the following 5 entries contain \"`?`\" characters:\n",
        "\n",
        "```\n",
        "*   id_33_main_post_test,??,7\n",
        "*   id_42_main_pre_test,??,??\n",
        "*   id_43_main_pre_test,??,??\n",
        "*   id_48_main_post_test,??,2\n",
        "*   id_111_main_pre_test,??,0\n",
        "```"
      ],
      "metadata": {
        "id": "NroNXyp7FIMJ"
      }
    },
    {
      "cell_type": "code",
      "source": [
        "# Remove rows where 'A17' or 'D11' column contains '?'\n",
        "joined_df = joined_df[~joined_df['A17'].str.contains('\\?')]\n",
        "joined_df = joined_df[joined_df['A17'].str.isnumeric()]\n",
        "joined_df = joined_df[~joined_df['D11'].str.contains('\\?')]\n",
        "print(joined_df.dtypes)\n",
        "# Convert columns A17 and D11 to integers\n",
        "joined_df['A17'] = pd.to_numeric(joined_df['A17']).astype(int)\n",
        "joined_df['D11'] = pd.to_numeric(joined_df['D11']).astype(int)\n",
        "\n",
        "# Print the description of the dataframe\n",
        "joined_df.describe()\n"
      ],
      "metadata": {
        "colab": {
          "base_uri": "https://localhost:8080/",
          "height": 755
        },
        "id": "Fjc4bk9kGlDq",
        "outputId": "fc452261-24d7-4925-a441-23e60db0db5d"
      },
      "execution_count": 37,
      "outputs": [
        {
          "output_type": "stream",
          "name": "stdout",
          "text": [
            "ID               object\n",
            "Keyword count    object\n",
            "Reviewed           bool\n",
            "babaloon          int64\n",
            "balloon           int64\n",
            "boom              int64\n",
            "butterfly         int64\n",
            "gelukkig          int64\n",
            "geëet             int64\n",
            "hardloop          int64\n",
            "hond              int64\n",
            "honger            int64\n",
            "kat               int64\n",
            "katjie            int64\n",
            "kwaad             int64\n",
            "lekker            int64\n",
            "muis              int64\n",
            "seer              int64\n",
            "seuntjie          int64\n",
            "sien              int64\n",
            "vissies           int64\n",
            "voel              int64\n",
            "water             int64\n",
            "wil               int64\n",
            "worsies           int64\n",
            "A17              object\n",
            "D11              object\n",
            "dtype: object\n"
          ]
        },
        {
          "output_type": "error",
          "ename": "ValueError",
          "evalue": "Unable to parse string \"6/9\" at position 45",
          "traceback": [
            "\u001b[0;31m---------------------------------------------------------------------------\u001b[0m",
            "\u001b[0;31mValueError\u001b[0m                                Traceback (most recent call last)",
            "\u001b[0;32m/usr/local/lib/python3.10/dist-packages/pandas/_libs/lib.pyx\u001b[0m in \u001b[0;36mpandas._libs.lib.maybe_convert_numeric\u001b[0;34m()\u001b[0m\n",
            "\u001b[0;31mValueError\u001b[0m: Unable to parse string \"6/9\"",
            "\nDuring handling of the above exception, another exception occurred:\n",
            "\u001b[0;31mValueError\u001b[0m                                Traceback (most recent call last)",
            "\u001b[0;32m<ipython-input-37-06cc95533dd1>\u001b[0m in \u001b[0;36m<cell line: 8>\u001b[0;34m()\u001b[0m\n\u001b[1;32m      6\u001b[0m \u001b[0;31m# Convert columns A17 and D11 to integers\u001b[0m\u001b[0;34m\u001b[0m\u001b[0;34m\u001b[0m\u001b[0m\n\u001b[1;32m      7\u001b[0m \u001b[0mjoined_df\u001b[0m\u001b[0;34m[\u001b[0m\u001b[0;34m'A17'\u001b[0m\u001b[0;34m]\u001b[0m \u001b[0;34m=\u001b[0m \u001b[0mpd\u001b[0m\u001b[0;34m.\u001b[0m\u001b[0mto_numeric\u001b[0m\u001b[0;34m(\u001b[0m\u001b[0mjoined_df\u001b[0m\u001b[0;34m[\u001b[0m\u001b[0;34m'A17'\u001b[0m\u001b[0;34m]\u001b[0m\u001b[0;34m)\u001b[0m\u001b[0;34m.\u001b[0m\u001b[0mastype\u001b[0m\u001b[0;34m(\u001b[0m\u001b[0mint\u001b[0m\u001b[0;34m)\u001b[0m\u001b[0;34m\u001b[0m\u001b[0;34m\u001b[0m\u001b[0m\n\u001b[0;32m----> 8\u001b[0;31m \u001b[0mjoined_df\u001b[0m\u001b[0;34m[\u001b[0m\u001b[0;34m'D11'\u001b[0m\u001b[0;34m]\u001b[0m \u001b[0;34m=\u001b[0m \u001b[0mpd\u001b[0m\u001b[0;34m.\u001b[0m\u001b[0mto_numeric\u001b[0m\u001b[0;34m(\u001b[0m\u001b[0mjoined_df\u001b[0m\u001b[0;34m[\u001b[0m\u001b[0;34m'D11'\u001b[0m\u001b[0;34m]\u001b[0m\u001b[0;34m)\u001b[0m\u001b[0;34m.\u001b[0m\u001b[0mastype\u001b[0m\u001b[0;34m(\u001b[0m\u001b[0mint\u001b[0m\u001b[0;34m)\u001b[0m\u001b[0;34m\u001b[0m\u001b[0;34m\u001b[0m\u001b[0m\n\u001b[0m\u001b[1;32m      9\u001b[0m \u001b[0;34m\u001b[0m\u001b[0m\n\u001b[1;32m     10\u001b[0m \u001b[0;31m# Print the description of the dataframe\u001b[0m\u001b[0;34m\u001b[0m\u001b[0;34m\u001b[0m\u001b[0m\n",
            "\u001b[0;32m/usr/local/lib/python3.10/dist-packages/pandas/core/tools/numeric.py\u001b[0m in \u001b[0;36mto_numeric\u001b[0;34m(arg, errors, downcast, dtype_backend)\u001b[0m\n\u001b[1;32m    215\u001b[0m         \u001b[0mcoerce_numeric\u001b[0m \u001b[0;34m=\u001b[0m \u001b[0merrors\u001b[0m \u001b[0;32mnot\u001b[0m \u001b[0;32min\u001b[0m \u001b[0;34m(\u001b[0m\u001b[0;34m\"ignore\"\u001b[0m\u001b[0;34m,\u001b[0m \u001b[0;34m\"raise\"\u001b[0m\u001b[0;34m)\u001b[0m\u001b[0;34m\u001b[0m\u001b[0;34m\u001b[0m\u001b[0m\n\u001b[1;32m    216\u001b[0m         \u001b[0;32mtry\u001b[0m\u001b[0;34m:\u001b[0m\u001b[0;34m\u001b[0m\u001b[0;34m\u001b[0m\u001b[0m\n\u001b[0;32m--> 217\u001b[0;31m             values, new_mask = lib.maybe_convert_numeric(  # type: ignore[call-overload]  # noqa\n\u001b[0m\u001b[1;32m    218\u001b[0m                 \u001b[0mvalues\u001b[0m\u001b[0;34m,\u001b[0m\u001b[0;34m\u001b[0m\u001b[0;34m\u001b[0m\u001b[0m\n\u001b[1;32m    219\u001b[0m                 \u001b[0mset\u001b[0m\u001b[0;34m(\u001b[0m\u001b[0;34m)\u001b[0m\u001b[0;34m,\u001b[0m\u001b[0;34m\u001b[0m\u001b[0;34m\u001b[0m\u001b[0m\n",
            "\u001b[0;32m/usr/local/lib/python3.10/dist-packages/pandas/_libs/lib.pyx\u001b[0m in \u001b[0;36mpandas._libs.lib.maybe_convert_numeric\u001b[0;34m()\u001b[0m\n",
            "\u001b[0;31mValueError\u001b[0m: Unable to parse string \"6/9\" at position 45"
          ]
        }
      ]
    },
    {
      "cell_type": "markdown",
      "source": [
        "\n",
        "# Descriptive Statistics\n",
        "## Central Tendency Measures"
      ],
      "metadata": {
        "id": "PK7YA5KhErr6"
      }
    },
    {
      "cell_type": "code",
      "source": [
        "# prompt: calculate and print the Central Tendency Measures for joined_df\n",
        "\n",
        "print(joined_df.describe())\n"
      ],
      "metadata": {
        "colab": {
          "base_uri": "https://localhost:8080/"
        },
        "id": "UaqmsC36GK5q",
        "outputId": "da2ed322-73e1-4e8a-81d8-54694fa056ef"
      },
      "execution_count": 31,
      "outputs": [
        {
          "output_type": "stream",
          "name": "stdout",
          "text": [
            "        babaloon    balloon       boom  butterfly   gelukkig      geëet  \\\n",
            "count  59.000000  59.000000  59.000000  59.000000  59.000000  59.000000   \n",
            "mean    1.338983   0.796610   1.322034   1.084746   0.525424   0.576271   \n",
            "std     2.453781   2.090864   1.746333   1.734917   0.953323   0.932246   \n",
            "min     0.000000   0.000000   0.000000   0.000000   0.000000   0.000000   \n",
            "25%     0.000000   0.000000   0.000000   0.000000   0.000000   0.000000   \n",
            "50%     0.000000   0.000000   1.000000   0.000000   0.000000   0.000000   \n",
            "75%     2.000000   0.000000   3.000000   2.000000   1.000000   1.000000   \n",
            "max    12.000000  10.000000   6.000000   8.000000   5.000000   4.000000   \n",
            "\n",
            "        hardloop       hond     honger        kat  ...     lekker       muis  \\\n",
            "count  59.000000  59.000000  59.000000  59.000000  ...  59.000000  59.000000   \n",
            "mean    0.305085   3.220339   0.677966   3.237288  ...   0.508475   1.711864   \n",
            "std     0.793383   3.695607   0.859845   3.798089  ...   1.236972   2.141952   \n",
            "min     0.000000   0.000000   0.000000   0.000000  ...   0.000000   0.000000   \n",
            "25%     0.000000   0.000000   0.000000   0.000000  ...   0.000000   0.000000   \n",
            "50%     0.000000   2.000000   1.000000   1.000000  ...   0.000000   0.000000   \n",
            "75%     0.000000   6.000000   1.000000   6.000000  ...   0.000000   3.000000   \n",
            "max     4.000000  12.000000   5.000000  14.000000  ...   7.000000   8.000000   \n",
            "\n",
            "            seer   seuntjie       sien    vissies       voel      water  \\\n",
            "count  59.000000  59.000000  59.000000  59.000000  59.000000  59.000000   \n",
            "mean    0.610169   0.661017   1.152542   0.474576   1.389831   1.033898   \n",
            "std     0.809788   1.346902   1.374817   1.535285   1.497319   1.780799   \n",
            "min     0.000000   0.000000   0.000000   0.000000   0.000000   0.000000   \n",
            "25%     0.000000   0.000000   0.000000   0.000000   0.000000   0.000000   \n",
            "50%     0.000000   0.000000   1.000000   0.000000   1.000000   0.000000   \n",
            "75%     1.000000   1.000000   2.000000   0.000000   2.000000   1.500000   \n",
            "max     3.000000   8.000000   6.000000   8.000000   7.000000  10.000000   \n",
            "\n",
            "             wil    worsies  \n",
            "count  59.000000  59.000000  \n",
            "mean    3.593220   0.728814  \n",
            "std     2.710889   1.270766  \n",
            "min     0.000000   0.000000  \n",
            "25%     2.000000   0.000000  \n",
            "50%     3.000000   0.000000  \n",
            "75%     5.000000   1.000000  \n",
            "max    11.000000   6.000000  \n",
            "\n",
            "[8 rows x 22 columns]\n"
          ]
        }
      ]
    },
    {
      "cell_type": "markdown",
      "source": [
        "## Dispersion Measures\n",
        "## Data Distribution Analysis\n",
        "\n",
        "# Data Visualization\n",
        "## Univariate Analysis\n",
        "## Bivariate Analysis\n",
        "## Multivariate Analysis\n",
        "\n",
        "# Correlation Analysis\n",
        "## Correlation Matrices\n",
        "### Pearson's Correlation (Numerical Features)\n",
        "### Cramer's V and Theil's U (Categorical Features)\n",
        "## Interpret Correlation Coefficients\n",
        "## Identify Multicollinearity\n",
        "\n",
        "# Missing Value Treatment\n",
        "## Identify Missing Values\n",
        "## Determine Missing Value Pattern\n",
        "## Imputation Techniques\n",
        "### Numerical Features\n",
        "#### Mean/Median Imputation\n",
        "#### Regression Imputation\n",
        "### Categorical Features\n",
        "#### Mode Imputation\n",
        "#### Constant Value Imputation\n",
        "## Evaluate Missing Value Treatment Impact\n",
        "\n",
        "# Outlier Detection and Treatment\n",
        "## Identify Outliers\n",
        "### Univariate Methods\n",
        "### Multivariate Methods\n",
        "## Evaluate Outlier Impact\n",
        "## Outlier Treatment\n",
        "### Removal\n",
        "### Capping\n",
        "### Transformation\n",
        "\n",
        "# Feature Engineering\n",
        "## Create New Features\n",
        "## Encode Categorical Variables\n",
        "### One-Hot Encoding\n",
        "### Label Encoding\n",
        "## Feature Scaling/Normalization\n",
        "\n",
        "# Dimensionality Reduction (optional)\n",
        "## Principal Component Analysis (PCA)\n",
        "## t-SNE\n",
        "## Feature Selection Techniques\n",
        "### Filter Methods\n",
        "### Wrapper Methods\n",
        "### Embedded Methods\n",
        "\n",
        "# Data Preparation for Modeling\n",
        "## Split into Training and Testing Sets\n",
        "## Ensure Proper Data Format"
      ],
      "metadata": {
        "id": "KfL1PvzvGLQa"
      }
    },
    {
      "cell_type": "markdown",
      "metadata": {
        "id": "KezoAHJpmZou"
      },
      "source": [
        "The Babaloon dataset was recorded from"
      ]
    },
    {
      "cell_type": "code",
      "source": [],
      "metadata": {
        "id": "dyNgH_lQ_kxb"
      },
      "execution_count": 31,
      "outputs": []
    },
    {
      "cell_type": "code",
      "execution_count": 32,
      "metadata": {
        "id": "5smCABqBmZov",
        "colab": {
          "base_uri": "https://localhost:8080/",
          "height": 564
        },
        "outputId": "3168cee2-aaf6-4dae-eca5-044da0264d48"
      },
      "outputs": [
        {
          "output_type": "display_data",
          "data": {
            "text/plain": [
              "<Figure size 1000x600 with 1 Axes>"
            ],
            "image/png": "[encoded data removed]"
          },
          "metadata": {}
        }
      ],
      "source": [
        "# Remove rows where 'A17' or 'D11' column contains '?'\n",
        "joined_df = joined_df[~joined_df['A17'].str.contains('\\?')]\n",
        "joined_df = joined_df[joined_df['A17'].str.isnumeric()]\n",
        "joined_df = joined_df[~joined_df['D11'].str.contains('\\?')]\n",
        "\n",
        "# Set features to everything between Reviewed and A17\n",
        "features = joined_df.loc[\n",
        "    :,\n",
        "    joined_df.columns[\n",
        "        (joined_df.columns.get_loc(\"Reviewed\") + 1) : joined_df.columns.get_loc(\"A17\")\n",
        "    ],\n",
        "]\n",
        "# print(features)\n",
        "\n",
        "target = joined_df[\"A17\"]\n",
        "# target = joined_df[\"D11\"]\n",
        "\n",
        "# Split the data into training and testing sets\n",
        "X_train, X_test, y_train, y_test = train_test_split(\n",
        "    features, target, test_size=0.2, random_state=my_random_state\n",
        ")\n",
        "\n",
        "# # Standardize the features if necessary (optional)\n",
        "# scaler = StandardScaler()\n",
        "# X_train = scaler.fit_transform(X_train)\n",
        "# X_test = scaler.transform(X_test)\n",
        "\n",
        "# Create and train the linear regression model and predict on the test set\n",
        "model = LinearRegression()\n",
        "model.fit(X_train, y_train)\n",
        "y_train_pred = model.predict(X_train)\n",
        "y_test_pred = model.predict(X_test)\n",
        "\n",
        "# Get the coefficients and corresponding feature names\n",
        "coefficients = model.coef_\n",
        "feature_names = X_train.columns\n",
        "coefficients_df = pd.DataFrame({'Feature': feature_names, 'Coefficient': coefficients})\n",
        "\n",
        "# Create a bar chart\n",
        "coefficients_df = coefficients_df.sort_values(by=\"Coefficient\")\n",
        "plt.figure(figsize=(10, 6))\n",
        "plt.barh(coefficients_df[\"Feature\"], coefficients_df[\"Coefficient\"], color=\"skyblue\")\n",
        "bars = plt.barh(\n",
        "    coefficients_df[\"Feature\"], coefficients_df[\"Coefficient\"], color=\"skyblue\"\n",
        ")\n",
        "\n",
        "# Add labels to the bars\n",
        "for bar, label in zip(bars, coefficients_df[\"Coefficient\"]):\n",
        "    plt.text(\n",
        "        bar.get_width(),\n",
        "        bar.get_y() + bar.get_height() / 2,\n",
        "        f\"{label:.3f}\",\n",
        "        va=\"center\",\n",
        "        ha=\"left\",\n",
        "        fontsize=8,\n",
        "    )\n",
        "plt.xlabel(\"Coefficient\")\n",
        "plt.ylabel(\"Feature\")\n",
        "plt.title(\"Learned Coefficients for Keywords\")\n",
        "plt.show()\n",
        "\n",
        "# Print the coefficients\n",
        "# print(coefficients_df)\n",
        "\n",
        "# # Print results table\n",
        "# print(\"\\nFilename \\t\\t\\t\\t| True Value \\t| Prediction \\t| Error \")\n",
        "# print(\"-\" * 60)  # Adjust length for new column\n",
        "\n",
        "# for row_index, (true_value, prediction, error) in enumerate(\n",
        "#     zip(y_test, predictions, y_test - predictions)\n",
        "# ):\n",
        "#     # Extract filename from data DataFrame\n",
        "#     filename = data.loc[row_index, \"ID\"].split(\"_\")[1:3]\n",
        "#     print(f\"{filename} \\t\\t| {true_value:.2f} \\t\\t| {prediction:.2f} \\t\\t| {error:.2f}\")"
      ]
    },
    {
      "cell_type": "markdown",
      "metadata": {
        "id": "MZsRKCP8mZov"
      },
      "source": [
        "### Plot the model results for SciKit Learn"
      ]
    },
    {
      "cell_type": "code",
      "execution_count": 33,
      "metadata": {
        "id": "ou029f1NmZov",
        "colab": {
          "base_uri": "https://localhost:8080/"
        },
        "outputId": "02674bff-000a-43de-df85-bf25103e1c28"
      },
      "outputs": [
        {
          "output_type": "stream",
          "name": "stdout",
          "text": [
            "Number of input features:\t\t22\n",
            "Number of instances:\t\t\t59\n",
            "\n",
            "Mean Squared Error Train:\t\t1.3561573560682\n",
            "Mean Squared Error Test:\t\t6.4975313047432905\n",
            "\n",
            "Root Mean Squared Error Train:\t\t1.1645416935722825\n",
            "Root Mean Squared Error Test:\t\t2.549025559845034\n",
            "\n",
            "R-squared (R2) Train:\t\t\t0.7173285903420783\n",
            "R-squared (R2) Test:\t\t\t0.15859306845050902\n"
          ]
        }
      ],
      "source": [
        "mse_train = mean_squared_error(y_train, y_train_pred)\n",
        "mse_test = mean_squared_error(y_test, y_test_pred)\n",
        "\n",
        "rmse_train = np.sqrt(mse_train)\n",
        "rmse_test = np.sqrt(mse_test)\n",
        "\n",
        "r2_train = r2_score(y_train, y_train_pred)\n",
        "r2_test = r2_score(y_test, y_test_pred)\n",
        "\n",
        "print(f'Number of input features:\\t\\t{features.shape[1]}')\n",
        "print(f'Number of instances:\\t\\t\\t{joined_df.shape[0]}\\n')\n",
        "\n",
        "print(f\"Mean Squared Error Train:\\t\\t{mse_train}\")\n",
        "print(f\"Mean Squared Error Test:\\t\\t{mse_test}\\n\")\n",
        "\n",
        "print(f\"Root Mean Squared Error Train:\\t\\t{np.sqrt(mse_train)}\")\n",
        "print(f\"Root Mean Squared Error Test:\\t\\t{np.sqrt(mse_test)}\\n\")\n",
        "\n",
        "print(f\"R-squared (R2) Train:\\t\\t\\t{r2_train}\")\n",
        "print(f\"R-squared (R2) Test:\\t\\t\\t{r2_test}\")"
      ]
    },
    {
      "cell_type": "code",
      "source": [
        "#  Create a scatter plot for a keyword vs A17\n",
        "keyword = 'seer'\n",
        "plot_dataframe = pd.DataFrame({keyword: joined_df[keyword], 'A17': joined_df['A17']})\n",
        "plot_dataframe['A17'] = plot_dataframe['A17'].astype(int)\n",
        "\n",
        "plt.scatter(plot_dataframe[keyword], plot_dataframe['A17'], alpha = 0.2)\n",
        "plt.xlabel('Frequency of ' + keyword + ' in the recording')\n",
        "plt.ylabel('A17')\n",
        "plt.title(\"Scores vs frequency of the keyword = \" + keyword)\n",
        "\n",
        "# Plot the line of best fit\n",
        "X = np.array(plot_dataframe[keyword]).reshape((-1, 1))\n",
        "y = np.array(plot_dataframe['A17'])\n",
        "model = LinearRegression()\n",
        "model.fit(X, y)\n",
        "slope = model.coef_[0]\n",
        "intercept = model.intercept_\n",
        "print('Slope for \\\"', keyword, '\\\" = ', slope, '\\n')\n",
        "plt.plot(X, slope * X + intercept, color='green')\n",
        "plt.show()"
      ],
      "metadata": {
        "colab": {
          "base_uri": "https://localhost:8080/",
          "height": 507
        },
        "id": "eE0SZYO36ojS",
        "outputId": "70abb79a-3f6d-4cf7-d745-51b5a8302ccf"
      },
      "execution_count": 34,
      "outputs": [
        {
          "output_type": "stream",
          "name": "stdout",
          "text": [
            "Slope for \" seer \" =  0.9737076648841352 \n",
            "\n"
          ]
        },
        {
          "output_type": "display_data",
          "data": {
            "text/plain": [
              "<Figure size 640x480 with 1 Axes>"
            ],
            "image/png": "[encoded data removed]"
          },
          "metadata": {}
        }
      ]
    },
    {
      "cell_type": "markdown",
      "metadata": {
        "id": "D1wp80i3mZou"
      },
      "source": [
        "## Using PyTorch"
      ]
    },
    {
      "cell_type": "code",
      "execution_count": 35,
      "metadata": {
        "id": "nDVxS97MmZou"
      },
      "outputs": [],
      "source": [
        "# df = joined_df  # Set the data variable from the prepared dataframe\n",
        "# my_learning_rate = 0.01\n",
        "# num_epochs = 40\n",
        "# my_seed = 0\n",
        "# np.random.seed(my_seed)\n",
        "# torch.manual_seed(my_seed)\n",
        "# random.seed(my_seed)\n",
        "# #  lambda in scikit learn for regularisation\n",
        "\n",
        "# target = joined_df[\"A17\"]\n",
        "# # target = joined_df[\"D11\"]\n",
        "\n",
        "# # Set features to everything between Reviewed and A17\n",
        "# features = joined_df.loc[\n",
        "#     :,\n",
        "#     joined_df.columns[\n",
        "#         (joined_df.columns.get_loc(\"Reviewed\") + 1) : joined_df.columns.get_loc(\"A17\")\n",
        "#     ],\n",
        "# ]\n",
        "\n",
        "# # Split the data into training and testing sets\n",
        "# X_train, X_test, y_train, y_test = train_test_split(\n",
        "#     features, target, test_size=my_test_size, random_state=my_seed\n",
        "# )\n",
        "\n",
        "# # Convert data to NumPy arrays and then to PyTorch tensors\n",
        "# X_train_tensor = torch.tensor(X_train.values, dtype=torch.float32)\n",
        "# y_train_tensor = torch.tensor(y_train.values, dtype=torch.float32)\n",
        "# X_test_tensor = torch.tensor(X_test.values, dtype=torch.float32)\n",
        "# y_test_tensor = torch.tensor(y_test.values, dtype=torch.float32)\n",
        "\n",
        "# # Define the linear regression model\n",
        "# class LinearRegressionModel(nn.Module):\n",
        "#     def __init__(self, input_size):\n",
        "#         super(LinearRegressionModel, self).__init__()\n",
        "#         self.linear = nn.Linear(input_size, 1)\n",
        "\n",
        "#     def forward(self, x):\n",
        "#         return self.linear(x)\n",
        "\n",
        "# # Instantiate the model\n",
        "# input_size = X_train_tensor.shape[1]\n",
        "# model = LinearRegressionModel(input_size)\n",
        "\n",
        "# # Define loss function and optimizer\n",
        "# criterion = nn.MSELoss()\n",
        "# optimizer = optim.SGD(model.parameters(), lr=my_learning_rate)\n",
        "\n",
        "# # Training loop\n",
        "# train_losses = []\n",
        "# validation_losses = []\n",
        "\n",
        "# for epoch in range(num_epochs):\n",
        "#     # Forward pass for training data\n",
        "#     outputs = model(X_train_tensor)\n",
        "#     loss = criterion(outputs, y_train_tensor.view(-1, 1))\n",
        "#     optimizer.zero_grad()\n",
        "#     loss.backward()\n",
        "#     optimizer.step()\n",
        "#     train_losses.append(loss.item())\n",
        "\n",
        "#     # Forward pass for validation data\n",
        "#     with torch.no_grad():\n",
        "#         val_outputs = model(X_test_tensor)\n",
        "#         val_loss = criterion(val_outputs, y_test_tensor.view(-1, 1))\n",
        "#         validation_losses.append(val_loss.item())\n",
        "\n",
        "# # Plot the training and validation loss curves on the same plot\n",
        "# plt.plot(range(1, num_epochs + 1), train_losses, label=\"Training Loss\")\n",
        "# plt.plot(range(1, num_epochs + 1), validation_losses, label=\"Validation Loss\")\n",
        "# plt.xlabel(\"Epochs\")\n",
        "# plt.ylabel(\"Loss\")\n",
        "# plt.title(\"Training and Validation Loss Curves with PyTorch\")\n",
        "# plt.legend()\n",
        "# plt.show()\n",
        "\n",
        "# # Evaluation on test set\n",
        "# with torch.no_grad():\n",
        "#     y_pred = model(X_test_tensor)\n",
        "\n",
        "# mse = mean_squared_error(y_test, y_pred.numpy())\n",
        "# rmse = np.sqrt(mse)\n",
        "# r2 = r2_score(y_test, y_pred.numpy())\n",
        "\n",
        "# print(f\"Mean Squared Error (MSE): \\t\\t{mse}\")\n",
        "# print(f\"Root Mean Squared Error (RMSE): \\t{rmse}\")\n",
        "# print(f\"R-squared (R2): \\t\\t\\t{r2}\")\n",
        "\n",
        "# learned_coefficients = model.linear.weight.squeeze().tolist()\n",
        "# feature_names = list(features.columns)\n",
        "\n",
        "# coefficients_df = pd.DataFrame(\n",
        "#     {\"Feature\": feature_names, \"Coefficient\": learned_coefficients}\n",
        "# )\n",
        "# # Sort the DataFrame by the 'Feature' column\n",
        "# coefficients_df.sort_values(by=\"Feature\", inplace=True)\n",
        "# # print(coefficients_df) # Print the sorted DataFrame\n",
        "\n",
        "# # Create a bar chart\n",
        "# coefficients_df = coefficients_df.sort_values(by=\"Coefficient\")\n",
        "# plt.figure(figsize=(10, 6))\n",
        "# plt.barh(coefficients_df[\"Feature\"], coefficients_df[\"Coefficient\"], color=\"skyblue\")\n",
        "# bars = plt.barh(\n",
        "#     coefficients_df[\"Feature\"], coefficients_df[\"Coefficient\"], color=\"skyblue\"\n",
        "# )\n",
        "\n",
        "# # Add labels to the bars\n",
        "# for bar, label in zip(bars, coefficients_df[\"Coefficient\"]):\n",
        "#     plt.text(\n",
        "#         bar.get_width(),\n",
        "#         bar.get_y() + bar.get_height() / 2,\n",
        "#         f\"{label:.3f}\",\n",
        "#         va=\"center\",\n",
        "#         ha=\"left\",\n",
        "#         fontsize=8,\n",
        "#     )\n",
        "# plt.xlabel(\"Coefficient\")\n",
        "# plt.ylabel(\"Feature\")\n",
        "# plt.title(\"Learned Coefficients for Keywords\")\n",
        "# plt.show()"
      ]
    }
  ],
  "metadata": {
    "kernelspec": {
      "display_name": "venv",
      "language": "python",
      "name": "python3"
    },
    "language_info": {
      "codemirror_mode": {
        "name": "ipython",
        "version": 3
      },
      "file_extension": ".py",
      "mimetype": "text/x-python",
      "name": "python",
      "nbconvert_exporter": "python",
      "pygments_lexer": "ipython3",
      "version": "3.10.12"
    },
    "colab": {
      "provenance": [],
      "collapsed_sections": [
        "D1wp80i3mZou"
      ],
      "include_colab_link": true
    }
  },
  "nbformat": 4,
  "nbformat_minor": 0
}